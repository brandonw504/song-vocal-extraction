{
 "cells": [
  {
   "cell_type": "markdown",
   "id": "9c47629b-b3f2-41db-aa65-96dbe286b8a2",
   "metadata": {},
   "source": [
    "# Song Vocal Extraction"
   ]
  },
  {
   "cell_type": "code",
   "execution_count": null,
   "id": "24a9fce9-a539-4970-b423-8b024a094269",
   "metadata": {},
   "outputs": [],
   "source": []
  }
 ],
 "metadata": {
  "kernelspec": {
   "display_name": "Python 3 (ipykernel)",
   "language": "python",
   "name": "python3"
  },
  "language_info": {
   "codemirror_mode": {
    "name": "ipython",
    "version": 3
   },
   "file_extension": ".py",
   "mimetype": "text/x-python",
   "name": "python",
   "nbconvert_exporter": "python",
   "pygments_lexer": "ipython3",
   "version": "3.10.11"
  }
 },
 "nbformat": 4,
 "nbformat_minor": 5
}
